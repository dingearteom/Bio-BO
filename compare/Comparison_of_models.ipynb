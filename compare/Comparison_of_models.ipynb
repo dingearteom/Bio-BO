{
 "cells": [
  {
   "cell_type": "code",
   "execution_count": 1,
   "metadata": {},
   "outputs": [],
   "source": [
    "import sys\n",
    "import os\n",
    "module_path = os.path.abspath(os.path.join('..'))\n",
    "del sys.path[0]\n",
    "sys.path.insert(0, module_path)\n",
    "    "
   ]
  },
  {
   "cell_type": "code",
   "execution_count": 2,
   "metadata": {},
   "outputs": [
    {
     "data": {
      "text/plain": [
       "['/home/artem/Desktop/programming/baesian_optimization',\n",
       " '/home/artem/anaconda3/lib/python38.zip',\n",
       " '/home/artem/anaconda3/lib/python3.8',\n",
       " '/home/artem/anaconda3/lib/python3.8/lib-dynload',\n",
       " '',\n",
       " '/home/artem/anaconda3/lib/python3.8/site-packages',\n",
       " '/home/artem/anaconda3/lib/python3.8/site-packages/deminf_data-0.0.0-py3.8.egg',\n",
       " '/home/artem/anaconda3/lib/python3.8/site-packages/moments-1.0.9-py3.8-linux-x86_64.egg',\n",
       " '/home/artem/anaconda3/lib/python3.8/site-packages/GPyOpt-1.2.6-py3.8.egg',\n",
       " '/home/artem/anaconda3/lib/python3.8/site-packages/gadma-2.0.0rc11.dev6-py3.8.egg',\n",
       " '/home/artem/anaconda3/lib/python3.8/site-packages/IPython/extensions',\n",
       " '/home/artem/.ipython']"
      ]
     },
     "execution_count": 2,
     "metadata": {},
     "output_type": "execute_result"
    }
   ],
   "source": [
    "sys.path"
   ]
  },
  {
   "cell_type": "markdown",
   "metadata": {},
   "source": [
    "# Model's Comparison"
   ]
  },
  {
   "cell_type": "code",
   "execution_count": 3,
   "metadata": {},
   "outputs": [],
   "source": [
    "%load_ext autoreload\n",
    "%autoreload 2"
   ]
  },
  {
   "cell_type": "code",
   "execution_count": 4,
   "metadata": {},
   "outputs": [],
   "source": [
    "from models.Bayesian_Optimization import BayesianOptimization\n",
    "from models.Genetic_Algorithm import GeneticAlgorithm\n",
    "from tqdm.notebook import tqdm\n",
    "import numpy as np\n",
    "from scipy.stats import bayes_mvs\n",
    "import matplotlib.pyplot as plt\n",
    "import pickle"
   ]
  },
  {
   "cell_type": "code",
   "execution_count": 5,
   "metadata": {},
   "outputs": [],
   "source": [
    "BayesianOptimization_Y_best = []\n",
    "GenericAlgorithm_Y_best = []"
   ]
  },
  {
   "cell_type": "code",
   "execution_count": 6,
   "metadata": {},
   "outputs": [],
   "source": [
    "num_run = 5\n",
    "num_evaluation = 200"
   ]
  },
  {
   "cell_type": "code",
   "execution_count": 7,
   "metadata": {},
   "outputs": [
    {
     "data": {
      "application/vnd.jupyter.widget-view+json": {
       "model_id": "8a085916e61a48f0a4a2541d45d73a69",
       "version_major": 2,
       "version_minor": 0
      },
      "text/plain": [
       "HBox(children=(FloatProgress(value=0.0, description='BayesianOptimization', max=1000.0, style=ProgressStyle(de…"
      ]
     },
     "metadata": {},
     "output_type": "display_data"
    },
    {
     "data": {
      "application/vnd.jupyter.widget-view+json": {
       "model_id": "1e46f1d927bd40e5ab91520d6a0dcc83",
       "version_major": 2,
       "version_minor": 0
      },
      "text/plain": [
       "HBox(children=(FloatProgress(value=0.0, description='GeneticAlgorithm', max=1000.0, style=ProgressStyle(descri…"
      ]
     },
     "metadata": {},
     "output_type": "display_data"
    }
   ],
   "source": [
    "progress_bar_BayesianOptimization = tqdm(total=num_evaluation * num_run, desc='BayesianOptimization')\n",
    "progress_bar_GeneticAlgorithm = tqdm(total=num_evaluation * num_run, desc='GeneticAlgorithm')"
   ]
  },
  {
   "cell_type": "code",
   "execution_count": 8,
   "metadata": {},
   "outputs": [],
   "source": [
    "for i in range(num_run):\n",
    "    model = GeneticAlgorithm(num_evaluation, progress_bar_GeneticAlgorithm)\n",
    "    _, Y_best = model.fit()\n",
    "    GenericAlgorithm_Y_best.append(Y_best)"
   ]
  },
  {
   "cell_type": "code",
   "execution_count": 9,
   "metadata": {},
   "outputs": [],
   "source": [
    "for i in range(num_run):\n",
    "    model = BayesianOptimization(num_evaluation, progress_bar_BayesianOptimization)\n",
    "    _, Y_best = model.fit()\n",
    "    BayesianOptimization_Y_best.append(Y_best[:num_evaluation])"
   ]
  },
  {
   "cell_type": "code",
   "execution_count": 10,
   "metadata": {},
   "outputs": [],
   "source": [
    "with open(\"data/compare_list_GeneticAlgoritm_saved.txt\", \"wb\") as fp:\n",
    "    pickle.dump(GenericAlgorithm_Y_best, fp)\n",
    "with open(\"data/compare_list_BayesianOptimization_saved.txt\", 'wb') as fp:\n",
    "    pickle.dump(BayesianOptimization_Y_best, fp)"
   ]
  },
  {
   "cell_type": "code",
   "execution_count": 11,
   "metadata": {},
   "outputs": [
    {
     "data": {
      "text/plain": [
       "<matplotlib.legend.Legend at 0x7f427d093ee0>"
      ]
     },
     "execution_count": 11,
     "metadata": {},
     "output_type": "execute_result"
    },
    {
     "data": {
      "image/png": "[encoded data removed]",
      "text/plain": [
       "<Figure size 432x288 with 1 Axes>"
      ]
     },
     "metadata": {
      "needs_background": "light"
     },
     "output_type": "display_data"
    }
   ],
   "source": [
    "GenericAlgorithm_Y_best = np.array(GenericAlgorithm_Y_best)\n",
    "BayesianOptimization_Y_best = np.array(BayesianOptimization_Y_best)\n",
    "\n",
    "\n",
    "\n",
    "GenericAlgorithm_Y_best_mean = np.mean(GenericAlgorithm_Y_best, axis=0)\n",
    "BayesianOptimization_Y_best_mean = np.mean(BayesianOptimization_Y_best, axis=0)\n",
    "\n",
    "GenericAlgorithm_Y_best_range_low = []\n",
    "GenericAlgorithm_Y_best_range_high = []\n",
    "for i in range(num_evaluation):\n",
    "    mean, _, _ = bayes_mvs(GenericAlgorithm_Y_best[:, i].flatten())\n",
    "    GenericAlgorithm_Y_best_range_low.append(mean.minmax[0])\n",
    "    GenericAlgorithm_Y_best_range_high.append(mean.minmax[1])\n",
    "                                              \n",
    "BayesianOptimization_Y_best_range_low = []\n",
    "BayesianOptimization_Y_best_range_high = []\n",
    "for i in range(num_evaluation):\n",
    "    mean, _, _ = bayes_mvs(BayesianOptimization_Y_best[:, i].flatten())\n",
    "    BayesianOptimization_Y_best_range_low.append(mean.minmax[0])\n",
    "    BayesianOptimization_Y_best_range_high.append(mean.minmax[1])\n",
    "\n",
    "plt.plot(range(1, num_evaluation + 1), GenericAlgorithm_Y_best_mean, label='GeneticAlgorithm')\n",
    "plt.fill_between(range(1, num_evaluation + 1),\n",
    "                 GenericAlgorithm_Y_best_range_low, GenericAlgorithm_Y_best_range_high, alpha=0.2)\n",
    "plt.plot(range(1, num_evaluation + 1), BayesianOptimization_Y_best_mean, label='BayesianOptimization')\n",
    "plt.fill_between(range(1, num_evaluation + 1), \n",
    "                 BayesianOptimization_Y_best_range_low, BayesianOptimization_Y_best_range_high, alpha=0.2)\n",
    "plt.legend()"
   ]
  },
  {
   "cell_type": "code",
   "execution_count": 16,
   "metadata": {},
   "outputs": [
    {
     "data": {
      "text/plain": [
       "<matplotlib.legend.Legend at 0x7f7a20be6730>"
      ]
     },
     "execution_count": 16,
     "metadata": {},
     "output_type": "execute_result"
    },
    {
     "data": {
      "image/png": "[encoded data removed]",
      "text/plain": [
       "<Figure size 432x288 with 1 Axes>"
      ]
     },
     "metadata": {
      "needs_background": "light"
     },
     "output_type": "display_data"
    }
   ],
   "source": [
    "GenericAlgorithm_Y_best = np.array(GenericAlgorithm_Y_best)\n",
    "BayesianOptimization_Y_best = np.array(BayesianOptimization_Y_best)\n",
    "\n",
    "\n",
    "\n",
    "GenericAlgorithm_Y_best_mean = np.mean(GenericAlgorithm_Y_best, axis=0)\n",
    "BayesianOptimization_Y_best_mean = np.mean(BayesianOptimization_Y_best, axis=0)\n",
    "\n",
    "GenericAlgorithm_Y_best_range_low = []\n",
    "GenericAlgorithm_Y_best_range_high = []\n",
    "for i in range(num_evaluation):\n",
    "    mean, _, _ = bayes_mvs(GenericAlgorithm_Y_best[:, i].flatten())\n",
    "    GenericAlgorithm_Y_best_range_low.append(mean.minmax[0])\n",
    "    GenericAlgorithm_Y_best_range_high.append(mean.minmax[1])\n",
    "                                              \n",
    "BayesianOptimization_Y_best_range_low = []\n",
    "BayesianOptimization_Y_best_range_high = []\n",
    "for i in range(num_evaluation):\n",
    "    mean, _, _ = bayes_mvs(BayesianOptimization_Y_best[:, i].flatten())\n",
    "    BayesianOptimization_Y_best_range_low.append(mean.minmax[0])\n",
    "    BayesianOptimization_Y_best_range_high.append(mean.minmax[1])\n",
    "\n",
    "plt.plot(range(1, num_evaluation + 1), GenericAlgorithm_Y_best_mean, label='GeneticAlgorithm')\n",
    "plt.fill_between(range(1, num_evaluation + 1),\n",
    "                 GenericAlgorithm_Y_best_range_low, GenericAlgorithm_Y_best_range_high, alpha=0.2)\n",
    "plt.plot(range(1, num_evaluation + 1), BayesianOptimization_Y_best_mean, label='BayesianOptimization')\n",
    "plt.fill_between(range(1, num_evaluation + 1), \n",
    "                 BayesianOptimization_Y_best_range_low, BayesianOptimization_Y_best_range_high, alpha=0.2)\n",
    "plt.legend()"
   ]
  },
  {
   "cell_type": "code",
   "execution_count": null,
   "metadata": {},
   "outputs": [],
   "source": []
  }
 ],
 "metadata": {
  "kernelspec": {
   "display_name": "Python 3",
   "language": "python",
   "name": "python3"
  },
  "language_info": {
   "codemirror_mode": {
    "name": "ipython",
    "version": 3
   },
   "file_extension": ".py",
   "mimetype": "text/x-python",
   "name": "python",
   "nbconvert_exporter": "python",
   "pygments_lexer": "ipython3",
   "version": "3.8.3"
  }
 },
 "nbformat": 4,
 "nbformat_minor": 4
}
