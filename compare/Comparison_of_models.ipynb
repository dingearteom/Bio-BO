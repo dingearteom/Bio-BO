{
 "cells": [
  {
   "cell_type": "code",
   "execution_count": 31,
   "metadata": {},
   "outputs": [],
   "source": [
    "import sys\n",
    "import os\n",
    "module_path = os.path.abspath(os.path.join('..'))\n",
    "del sys.path[0]\n",
    "sys.path.insert(0, module_path)"
   ]
  },
  {
   "cell_type": "code",
   "execution_count": 32,
   "metadata": {},
   "outputs": [
    {
     "data": {
      "text/plain": [
       "['/home/artem/Desktop/programming/bayesian_optimization',\n",
       " '/home/artem/anaconda3/lib/python38.zip',\n",
       " '/home/artem/anaconda3/lib/python3.8',\n",
       " '/home/artem/anaconda3/lib/python3.8/lib-dynload',\n",
       " '',\n",
       " '/home/artem/anaconda3/lib/python3.8/site-packages',\n",
       " '/home/artem/anaconda3/lib/python3.8/site-packages/deminf_data-0.0.0-py3.8.egg',\n",
       " '/home/artem/anaconda3/lib/python3.8/site-packages/moments-1.0.9-py3.8-linux-x86_64.egg',\n",
       " '/home/artem/anaconda3/lib/python3.8/site-packages/GPyOpt-1.2.6-py3.8.egg',\n",
       " '/home/artem/anaconda3/lib/python3.8/site-packages/gadma-2.0.0rc11.dev6-py3.8.egg',\n",
       " '/home/artem/anaconda3/lib/python3.8/site-packages/IPython/extensions',\n",
       " '/home/artem/.ipython']"
      ]
     },
     "execution_count": 32,
     "metadata": {},
     "output_type": "execute_result"
    }
   ],
   "source": [
    "sys.path"
   ]
  },
  {
   "cell_type": "markdown",
   "metadata": {},
   "source": [
    "# Model's Comparison"
   ]
  },
  {
   "cell_type": "code",
   "execution_count": 50,
   "metadata": {},
   "outputs": [],
   "source": [
    "import pickle\n",
    "import numpy as np\n",
    "import math"
   ]
  },
  {
   "cell_type": "code",
   "execution_count": 44,
   "metadata": {},
   "outputs": [],
   "source": [
    "with open('data/compare_list_BayesianOptimization_saved.pickle', 'rb') as fp:\n",
    "    BayesianOptimization_Y_best = pickle.load(fp)\n",
    "with open('data/compare_list_GeneticAlgoritm_saved.pickle', 'rb') as fp:\n",
    "    GeneticAlgorithm_Y_best = pickle.load(fp)"
   ]
  },
  {
   "cell_type": "code",
   "execution_count": 53,
   "metadata": {},
   "outputs": [],
   "source": [
    "assert len(BayesianOptimization_Y_best) == len(GeneticAlgorithm_Y_best)\n",
    "assert len(BayesianOptimization_Y_best[0]) == len(GeneticAlgorithm_Y_best[0])"
   ]
  },
  {
   "cell_type": "code",
   "execution_count": 54,
   "metadata": {},
   "outputs": [],
   "source": [
    "num_run= len(BayesianOptimization_Y_best)\n",
    "num_evaluation = len(BayesianOptimization_Y_best[0])"
   ]
  },
  {
   "cell_type": "code",
   "execution_count": 55,
   "metadata": {},
   "outputs": [],
   "source": [
    "def get_confidence_interval(arr, alpha):\n",
    "    arr = sorted(arr)\n",
    "    n = len(arr)\n",
    "    return arr[int((1 - alpha) / 2) * n], arr[min(math.ceil(((1 + alpha) / 2) * n), n - 1)] "
   ]
  },
  {
   "cell_type": "code",
   "execution_count": 56,
   "metadata": {},
   "outputs": [
    {
     "data": {
      "text/plain": [
       "<matplotlib.legend.Legend at 0x7f2284c80220>"
      ]
     },
     "execution_count": 56,
     "metadata": {},
     "output_type": "execute_result"
    },
    {
     "data": {
      "image/png": "[encoded data removed]",
      "text/plain": [
       "<Figure size 432x288 with 1 Axes>"
      ]
     },
     "metadata": {
      "needs_background": "light"
     },
     "output_type": "display_data"
    }
   ],
   "source": [
    "alpha = 0.5\n",
    "\n",
    "GeneticAlgorithm_Y_best = np.array(GeneticAlgorithm_Y_best)\n",
    "BayesianOptimization_Y_best = np.array(BayesianOptimization_Y_best)\n",
    "\n",
    "\n",
    "\n",
    "GeneticAlgorithm_Y_best_mean = np.mean(GeneticAlgorithm_Y_best, axis=0)\n",
    "BayesianOptimization_Y_best_mean = np.mean(BayesianOptimization_Y_best, axis=0)\n",
    "\n",
    "GeneticAlgorithm_Y_best_range_low = []\n",
    "GeneticAlgorithm_Y_best_range_high = []\n",
    "for i in range(num_evaluation):\n",
    "    low, high = get_confidence_interval(GeneticAlgorithm_Y_best[:, i].flatten(), alpha=alpha)\n",
    "    GeneticAlgorithm_Y_best_range_low.append(low)\n",
    "    GeneticAlgorithm_Y_best_range_high.append(high)\n",
    "                                              \n",
    "BayesianOptimization_Y_best_range_low = []\n",
    "BayesianOptimization_Y_best_range_high = []\n",
    "for i in range(num_evaluation):\n",
    "    low, high = get_confidence_interval(BayesianOptimization_Y_best[:, i].flatten(), alpha=alpha)\n",
    "    BayesianOptimization_Y_best_range_low.append(low)\n",
    "    BayesianOptimization_Y_best_range_high.append(high)\n",
    "\n",
    "plt.plot(range(1, num_evaluation + 1), GeneticAlgorithm_Y_best_mean, label='GeneticAlgorithm')\n",
    "plt.fill_between(range(1, num_evaluation + 1),\n",
    "                 GeneticAlgorithm_Y_best_range_low, GeneticAlgorithm_Y_best_range_high, alpha=0.2)\n",
    "plt.plot(range(1, num_evaluation + 1), BayesianOptimization_Y_best_mean, label='BayesianOptimization')\n",
    "plt.fill_between(range(1, num_evaluation + 1), \n",
    "                 BayesianOptimization_Y_best_range_low, BayesianOptimization_Y_best_range_high, alpha=0.2)\n",
    "plt.legend()"
   ]
  }
 ],
 "metadata": {
  "kernelspec": {
   "display_name": "Python 3",
   "language": "python",
   "name": "python3"
  },
  "language_info": {
   "codemirror_mode": {
    "name": "ipython",
    "version": 3
   },
   "file_extension": ".py",
   "mimetype": "text/x-python",
   "name": "python",
   "nbconvert_exporter": "python",
   "pygments_lexer": "ipython3",
   "version": "3.8.3"
  }
 },
 "nbformat": 4,
 "nbformat_minor": 4
}
